{
 "cells": [
  {
   "cell_type": "code",
   "execution_count": 1,
   "metadata": {},
   "outputs": [
    {
     "name": "stdout",
     "output_type": "stream",
     "text": [
      "Intel MKL WARNING: Support of Intel(R) Streaming SIMD Extensions 4.2 (Intel(R) SSE4.2) enabled only processors has been deprecated. Intel oneAPI Math Kernel Library 2025.0 will require Intel(R) Advanced Vector Extensions (Intel(R) AVX) instructions.\n",
      "Intel MKL WARNING: Support of Intel(R) Streaming SIMD Extensions 4.2 (Intel(R) SSE4.2) enabled only processors has been deprecated. Intel oneAPI Math Kernel Library 2025.0 will require Intel(R) Advanced Vector Extensions (Intel(R) AVX) instructions.\n"
     ]
    }
   ],
   "source": [
    "import sys\n",
    "import os\n",
    "import math\n",
    "\n",
    "# Get the current working directory and the relative path to your module\n",
    "module_path = os.path.abspath(os.path.join(\"..\", \"..\"))\n",
    "if module_path not in sys.path:\n",
    "    sys.path.append(module_path)\n",
    "\n",
    "# Now you can import your module\n",
    "from src.api.repository.search import SearchRepo"
   ]
  },
  {
   "cell_type": "code",
   "execution_count": 2,
   "metadata": {},
   "outputs": [
    {
     "name": "stdout",
     "output_type": "stream",
     "text": [
      "Connected to Elasticsearch!\n",
      "{'cluster_name': 'docker-cluster',\n",
      " 'cluster_uuid': '9I9q3mFYSISbvBg75cK23A',\n",
      " 'name': '5eeda383872f',\n",
      " 'tagline': 'You Know, for Search',\n",
      " 'version': {'build_date': '2024-08-05T10:05:34.233336849Z',\n",
      "             'build_flavor': 'default',\n",
      "             'build_hash': '1a77947f34deddb41af25e6f0ddb8e830159c179',\n",
      "             'build_snapshot': False,\n",
      "             'build_type': 'docker',\n",
      "             'lucene_version': '9.11.1',\n",
      "             'minimum_index_compatibility_version': '7.0.0',\n",
      "             'minimum_wire_compatibility_version': '7.17.0',\n",
      "             'number': '8.15.0'}}\n"
     ]
    }
   ],
   "source": [
    "es = SearchRepo()"
   ]
  },
  {
   "cell_type": "code",
   "execution_count": 3,
   "metadata": {},
   "outputs": [],
   "source": [
    "idx = \"vehicle\""
   ]
  },
  {
   "cell_type": "code",
   "execution_count": 4,
   "metadata": {},
   "outputs": [],
   "source": [
    "def number_of_search_terms_from(query_string):\n",
    "    \"\"\"\n",
    "    Returns the number of terms in the query string using space as a separator\n",
    "    :param query_string: String containing zero or more words separated by spaces\n",
    "    :return: Number with the amount of found terms\n",
    "    \"\"\"\n",
    "    return len(query_string.split())\n"
   ]
  },
  {
   "cell_type": "code",
   "execution_count": 17,
   "metadata": {},
   "outputs": [],
   "source": [
    "def get_completion_prefix(input_string):\n",
    "    # if the input string is too short, then don't attempt completion\n",
    "    if len(input_string) < 2:\n",
    "        return None\n",
    "\n",
    "    # get the last uncompleted string\n",
    "    input_string = input_string.lstrip()\n",
    "    last_space_index = input_string.rfind(\" \")\n",
    "    prefix = input_string[last_space_index + 1 :]\n",
    "\n",
    "    # if the prefix is 1 or less chars then include the previous word in the prefix\n",
    "    if len(prefix) <= 1:\n",
    "        previous_space_index = input_string[:last_space_index].rfind(\" \")\n",
    "        prefix = input_string[previous_space_index + 1 :]\n",
    "\n",
    "    return prefix\n"
   ]
  },
  {
   "cell_type": "code",
   "execution_count": 58,
   "metadata": {},
   "outputs": [],
   "source": [
    "context = [\"ABS\", \"Airbags\"]"
   ]
  },
  {
   "cell_type": "code",
   "execution_count": 99,
   "metadata": {},
   "outputs": [],
   "source": [
    "query_string = \"stability co\""
   ]
  },
  {
   "cell_type": "code",
   "execution_count": 100,
   "metadata": {},
   "outputs": [
    {
     "data": {
      "text/plain": [
       "{'bool': {'filter': [{'nested': {'_name': 'completion_match__ABS',\n",
       "     'path': 'completion_terms',\n",
       "     'query': {'match': {'completion_terms.tag.edge_ngram': {'query': 'ABS'}}}}},\n",
       "   {'nested': {'_name': 'completion_match__Airbags',\n",
       "     'path': 'completion_terms',\n",
       "     'query': {'match': {'completion_terms.tag.edge_ngram': {'query': 'Airbags'}}}}}]}}"
      ]
     },
     "execution_count": 100,
     "metadata": {},
     "output_type": "execute_result"
    }
   ],
   "source": [
    "query = None\n",
    "if not context:\n",
    "    query = None\n",
    "else:\n",
    "    query = {\n",
    "        \"bool\": {\n",
    "            \"filter\": [\n",
    "                {\n",
    "                    \"nested\": {\n",
    "                        \"_name\": f\"completion_match__{q}\",\n",
    "                        \"path\": \"completion_terms\",\n",
    "                        \"query\": {\n",
    "                            \"match\": {\n",
    "                                \"completion_terms.tag.edge_ngram\": {\n",
    "                                    \"query\": q,\n",
    "                                }\n",
    "                            }\n",
    "                        },\n",
    "                    }\n",
    "                }\n",
    "                for q in context\n",
    "            ]\n",
    "        }\n",
    "    }\n",
    "query"
   ]
  },
  {
   "cell_type": "code",
   "execution_count": 101,
   "metadata": {},
   "outputs": [
    {
     "data": {
      "text/plain": [
       "{'bool': {'filter': [{'nested': {'_name': 'completion_match__ABS',\n",
       "     'path': 'completion_terms',\n",
       "     'query': {'match': {'completion_terms.tag.edge_ngram': {'query': 'ABS'}}}}},\n",
       "   {'nested': {'_name': 'completion_match__Airbags',\n",
       "     'path': 'completion_terms',\n",
       "     'query': {'match': {'completion_terms.tag.edge_ngram': {'query': 'Airbags'}}}}}]}}"
      ]
     },
     "execution_count": 101,
     "metadata": {},
     "output_type": "execute_result"
    }
   ],
   "source": [
    "query"
   ]
  },
  {
   "cell_type": "code",
   "execution_count": 102,
   "metadata": {},
   "outputs": [
    {
     "data": {
      "text/plain": [
       "{'took': 2,\n",
       " 'timed_out': False,\n",
       " '_shards': {'total': 1, 'successful': 1, 'skipped': 0, 'failed': 0},\n",
       " 'hits': {'total': {'value': 2503, 'relation': 'eq'},\n",
       "  'max_score': None,\n",
       "  'hits': []}}"
      ]
     },
     "execution_count": 102,
     "metadata": {},
     "output_type": "execute_result"
    }
   ],
   "source": [
    "resp = es.es.search(\n",
    "    index=idx,\n",
    "    query=query,\n",
    "    size=0,\n",
    "    # filter_path=\"took,**.buckets.key,**.buckets.doc_count\",\n",
    "    #explain=True,\n",
    ")\n",
    "resp.body"
   ]
  },
  {
   "cell_type": "code",
   "execution_count": 103,
   "metadata": {},
   "outputs": [
    {
     "data": {
      "text/plain": [
       "'stability co'"
      ]
     },
     "execution_count": 103,
     "metadata": {},
     "output_type": "execute_result"
    }
   ],
   "source": [
    "query_string"
   ]
  },
  {
   "cell_type": "code",
   "execution_count": 104,
   "metadata": {},
   "outputs": [
    {
     "data": {
      "text/plain": [
       "'co'"
      ]
     },
     "execution_count": 104,
     "metadata": {},
     "output_type": "execute_result"
    }
   ],
   "source": [
    "get_completion_prefix(query_string)"
   ]
  },
  {
   "cell_type": "code",
   "execution_count": 105,
   "metadata": {},
   "outputs": [
    {
     "data": {
      "text/plain": [
       "1"
      ]
     },
     "execution_count": 105,
     "metadata": {},
     "output_type": "execute_result"
    }
   ],
   "source": [
    "number_of_search_terms_from(get_completion_prefix(query_string))"
   ]
  },
  {
   "cell_type": "code",
   "execution_count": 106,
   "metadata": {},
   "outputs": [
    {
     "data": {
      "text/plain": [
       "{'topics_parent': {'nested': {'path': 'completion_terms'},\n",
       "  'aggs': {'topics': {'filter': {'bool': {'should': [{'term': {'completion_terms.tag.edge_ngram': 'co'}},\n",
       "       {'match_phrase': {'completion_terms.tag.edge_ngram': {'query': 'co'}}},\n",
       "       {'match': {'completion_terms.tag.edge_ngram': {'query': 'co',\n",
       "          'operator': 'OR',\n",
       "          'fuzziness': 'AUTO',\n",
       "          'prefix_length': 1}}}]}},\n",
       "    'aggs': {'topics': {'terms': {'field': 'completion_terms.tag.keyword',\n",
       "       'size': 10,\n",
       "       'include': 'co.*'}}}}}}}"
      ]
     },
     "execution_count": 106,
     "metadata": {},
     "output_type": "execute_result"
    }
   ],
   "source": [
    "aggs = None\n",
    "\n",
    "if number_of_search_terms_from(query_string)<=1:\n",
    "     aggs = {\n",
    "        \"topics_parent\": {\n",
    "            \"nested\": {\"path\": \"completion_terms\"},\n",
    "            \"aggs\": {\n",
    "                \"topics\": {\n",
    "                    \"filter\": {\n",
    "                        \"bool\": {\n",
    "                            \"should\": [\n",
    "                                {\n",
    "                                    \"term\": {\n",
    "                                        \"completion_terms.tag.edge_ngram\": get_completion_prefix(\n",
    "                                            query_string\n",
    "                                        )\n",
    "                                    }\n",
    "                                },\n",
    "                                {\n",
    "                                    \"match_phrase\": {\n",
    "                                        \"completion_terms.tag.edge_ngram\": {\n",
    "                                            \"query\": get_completion_prefix(query_string)\n",
    "                                        }\n",
    "                                    }\n",
    "                                },\n",
    "                                {\n",
    "                                    \"match\": {\n",
    "                                        \"completion_terms.tag.edge_ngram\": {\n",
    "                                            \"query\": get_completion_prefix(\n",
    "                                                query_string\n",
    "                                            ),\n",
    "                                            \"operator\": \"OR\",\n",
    "                                            \"fuzziness\": \"AUTO\",\n",
    "                                            \"prefix_length\": max(\n",
    "                                                1,\n",
    "                                                math.floor(\n",
    "                                                    (1 / 3)\n",
    "                                                    * len(\n",
    "                                                        get_completion_prefix(\n",
    "                                                            query_string\n",
    "                                                        )\n",
    "                                                    )\n",
    "                                                ),\n",
    "                                            ),\n",
    "                                        }\n",
    "                                    }\n",
    "                                },\n",
    "                            ]\n",
    "                        }\n",
    "                    },\n",
    "                    \"aggs\": {\n",
    "                        \"topics\": {\n",
    "                            \"terms\": {\n",
    "                                \"field\": \"completion_terms.tag.keyword\",\n",
    "                                \"size\": 10,\n",
    "                            },\n",
    "                        }\n",
    "                    },\n",
    "                }\n",
    "            },\n",
    "        }\n",
    "    }\n",
    "     \n",
    "elif number_of_search_terms_from(query_string) == number_of_search_terms_from(get_completion_prefix(query_string)):\n",
    "      aggs = {\n",
    "        \"topics_parent\": {\n",
    "            \"nested\": {\"path\": \"completion_terms\"},\n",
    "            \"aggs\": {\n",
    "                \"topics\": {\n",
    "                    \"filter\": {\n",
    "                        \"bool\": {\n",
    "                            \"should\": [\n",
    "                                {\n",
    "                                    \"multi_match\": {\n",
    "                                        \"query\": get_completion_prefix(query_string),\n",
    "                                        \"type\": \"bool_prefix\",\n",
    "                                        \"fields\": [\n",
    "                                            \"completion_terms.tag\",\n",
    "                                            \"completion_terms.tag._2gram\",\n",
    "                                            \"completion_terms.tag._3gram\",\n",
    "                                        ],\n",
    "                                    }\n",
    "                                }\n",
    "                            ]\n",
    "                        }\n",
    "                    },\n",
    "                    \"aggs\": {\n",
    "                        \"topics\": {\n",
    "                            \"terms\": {\n",
    "                                \"field\": \"completion_terms.tag.keyword\",\n",
    "                                \"size\": 10,\n",
    "                                \"include\": f\"{get_completion_prefix(query_string)}.*\",\n",
    "                            },\n",
    "                        }\n",
    "                    },\n",
    "                }\n",
    "            },\n",
    "        }\n",
    "    }\n",
    "     \n",
    "else:\n",
    "      aggs = {\n",
    "        \"topics_parent\": {\n",
    "            \"nested\": {\"path\": \"completion_terms\"},\n",
    "            \"aggs\": {\n",
    "                \"topics\": {\n",
    "                    \"filter\": {\n",
    "                        \"bool\": {\n",
    "                            \"should\": [\n",
    "                                {\n",
    "                                    \"term\": {\n",
    "                                        \"completion_terms.tag.edge_ngram\": get_completion_prefix(\n",
    "                                            query_string\n",
    "                                        )\n",
    "                                    }\n",
    "                                },\n",
    "                                {\n",
    "                                    \"match_phrase\": {\n",
    "                                        \"completion_terms.tag.edge_ngram\": {\n",
    "                                            \"query\": get_completion_prefix(query_string)\n",
    "                                        }\n",
    "                                    }\n",
    "                                },\n",
    "                                {\n",
    "                                    \"match\": {\n",
    "                                        \"completion_terms.tag.edge_ngram\": {\n",
    "                                            \"query\": get_completion_prefix(\n",
    "                                                query_string\n",
    "                                            ),\n",
    "                                            \"operator\": \"OR\",\n",
    "                                            \"fuzziness\": \"AUTO\",\n",
    "                                            \"prefix_length\": max(\n",
    "                                                1,\n",
    "                                                math.floor(\n",
    "                                                    (1 / 3)\n",
    "                                                    * len(\n",
    "                                                        get_completion_prefix(\n",
    "                                                            query_string\n",
    "                                                        )\n",
    "                                                    )\n",
    "                                                ),\n",
    "                                            ),\n",
    "                                        }\n",
    "                                    }\n",
    "                                },\n",
    "                            ]\n",
    "                        }\n",
    "                    },\n",
    "                    \"aggs\": {\n",
    "                        \"topics\": {\n",
    "                            \"terms\": {\n",
    "                                \"field\": \"completion_terms.tag.keyword\",\n",
    "                                \"size\": 10,\n",
    "                                 \"include\": f\"{get_completion_prefix(query_string)}.*\",\n",
    "                            },\n",
    "                        }\n",
    "                    },\n",
    "                }\n",
    "            },\n",
    "        }\n",
    "    }\n",
    "\n",
    "\n",
    "          \n",
    "\n",
    "\n",
    "    \n",
    "     \n",
    "\n",
    "\n",
    "aggs  "
   ]
  },
  {
   "cell_type": "code",
   "execution_count": 107,
   "metadata": {},
   "outputs": [
    {
     "data": {
      "text/plain": [
       "{'took': 10,\n",
       " 'aggregations': {'topics_parent': {'topics': {'topics': {'buckets': [{'key': 'coupe',\n",
       "       'doc_count': 136},\n",
       "      {'key': 'convertible', 'doc_count': 82},\n",
       "      {'key': 'coupe, convertible', 'doc_count': 70},\n",
       "      {'key': 'convertible, coupe', 'doc_count': 27},\n",
       "      {'key': 'coupe, sedan', 'doc_count': 12},\n",
       "      {'key': 'corolla', 'doc_count': 11},\n",
       "      {'key': 'coupe, sedan, convertible', 'doc_count': 10},\n",
       "      {'key': 'continental', 'doc_count': 9},\n",
       "      {'key': 'comfortable seating', 'doc_count': 8},\n",
       "      {'key': 'convertible, sedan, coupe', 'doc_count': 7}]}}}}}"
      ]
     },
     "execution_count": 107,
     "metadata": {},
     "output_type": "execute_result"
    }
   ],
   "source": [
    "resp = es.es.search(\n",
    "    index=idx,\n",
    "    query=query,\n",
    "    aggs=aggs,\n",
    "    size=0,\n",
    "    source=\"completion_terms\",\n",
    "    filter_path=\"took,**.buckets.key,**.buckets.doc_count\",\n",
    ")\n",
    "resp.body"
   ]
  },
  {
   "cell_type": "code",
   "execution_count": 108,
   "metadata": {},
   "outputs": [
    {
     "data": {
      "text/plain": [
       "{'bool': {'filter': [{'nested': {'_name': 'completion_match__ABS',\n",
       "     'path': 'completion_terms',\n",
       "     'query': {'match': {'completion_terms.tag.edge_ngram': {'query': 'ABS'}}}}},\n",
       "   {'nested': {'_name': 'completion_match__Airbags',\n",
       "     'path': 'completion_terms',\n",
       "     'query': {'match': {'completion_terms.tag.edge_ngram': {'query': 'Airbags'}}}}}]}}"
      ]
     },
     "execution_count": 108,
     "metadata": {},
     "output_type": "execute_result"
    }
   ],
   "source": [
    "query"
   ]
  },
  {
   "cell_type": "code",
   "execution_count": null,
   "metadata": {},
   "outputs": [],
   "source": []
  },
  {
   "cell_type": "code",
   "execution_count": null,
   "metadata": {},
   "outputs": [],
   "source": []
  },
  {
   "cell_type": "code",
   "execution_count": null,
   "metadata": {},
   "outputs": [],
   "source": []
  },
  {
   "cell_type": "code",
   "execution_count": null,
   "metadata": {},
   "outputs": [],
   "source": []
  }
 ],
 "metadata": {
  "kernelspec": {
   "display_name": "search",
   "language": "python",
   "name": "python3"
  },
  "language_info": {
   "codemirror_mode": {
    "name": "ipython",
    "version": 3
   },
   "file_extension": ".py",
   "mimetype": "text/x-python",
   "name": "python",
   "nbconvert_exporter": "python",
   "pygments_lexer": "ipython3",
   "version": "3.9.19"
  }
 },
 "nbformat": 4,
 "nbformat_minor": 2
}
