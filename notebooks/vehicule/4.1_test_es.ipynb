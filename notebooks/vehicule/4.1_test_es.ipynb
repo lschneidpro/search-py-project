{
 "cells": [
  {
   "cell_type": "code",
   "execution_count": 404,
   "metadata": {},
   "outputs": [],
   "source": [
    "import sys\n",
    "import os\n",
    "import math\n",
    "\n",
    "# Get the current working directory and the relative path to your module\n",
    "module_path = os.path.abspath(os.path.join(\"..\", \"..\"))\n",
    "if module_path not in sys.path:\n",
    "    sys.path.append(module_path)\n",
    "\n",
    "# Now you can import your module\n",
    "from src.api.service.repo import SearchRepo"
   ]
  },
  {
   "cell_type": "code",
   "execution_count": 405,
   "metadata": {},
   "outputs": [
    {
     "name": "stdout",
     "output_type": "stream",
     "text": [
      "Connected to Elasticsearch!\n",
      "{'cluster_name': 'docker-cluster',\n",
      " 'cluster_uuid': '9I9q3mFYSISbvBg75cK23A',\n",
      " 'name': '5eeda383872f',\n",
      " 'tagline': 'You Know, for Search',\n",
      " 'version': {'build_date': '2024-08-05T10:05:34.233336849Z',\n",
      "             'build_flavor': 'default',\n",
      "             'build_hash': '1a77947f34deddb41af25e6f0ddb8e830159c179',\n",
      "             'build_snapshot': False,\n",
      "             'build_type': 'docker',\n",
      "             'lucene_version': '9.11.1',\n",
      "             'minimum_index_compatibility_version': '7.0.0',\n",
      "             'minimum_wire_compatibility_version': '7.17.0',\n",
      "             'number': '8.15.0'}}\n"
     ]
    }
   ],
   "source": [
    "es = SearchRepo()"
   ]
  },
  {
   "cell_type": "code",
   "execution_count": 406,
   "metadata": {},
   "outputs": [],
   "source": [
    "idx = \"vehicle\""
   ]
  },
  {
   "cell_type": "code",
   "execution_count": 407,
   "metadata": {},
   "outputs": [],
   "source": [
    "query_string = \"control\""
   ]
  },
  {
   "cell_type": "code",
   "execution_count": null,
   "metadata": {},
   "outputs": [],
   "source": [
    "query = {\n",
    "    \"bool\": {\n",
    "        \"filter\": [\n",
    "            {\n",
    "                \"nested\": {\n",
    "                    \"_name\": f\"match_{q}\",\n",
    "                    \"path\": \"completion_terms\",\n",
    "                    \"query\": {\n",
    "                        \"match\": {\n",
    "                            \"completion_terms.tag.edge_ngram\": {\n",
    "                                \"query\": q,\n",
    "                            }\n",
    "                        }\n",
    "                    },\n",
    "                }\n",
    "            }\n",
    "            for q in query_string.split()\n",
    "        ]\n",
    "    }\n",
    "}"
   ]
  },
  {
   "cell_type": "code",
   "execution_count": 409,
   "metadata": {},
   "outputs": [
    {
     "data": {
      "text/plain": [
       "{'bool': {'filter': [{'nested': {'_name': 'match_control',\n",
       "     'path': 'completion_terms',\n",
       "     'query': {'match': {'completion_terms.tag.edge_ngram': {'query': 'control'}}}}}]}}"
      ]
     },
     "execution_count": 409,
     "metadata": {},
     "output_type": "execute_result"
    }
   ],
   "source": [
    "query"
   ]
  },
  {
   "cell_type": "code",
   "execution_count": 410,
   "metadata": {},
   "outputs": [
    {
     "data": {
      "text/plain": [
       "{'took': 7,\n",
       " 'timed_out': False,\n",
       " '_shards': {'total': 1, 'successful': 1, 'skipped': 0, 'failed': 0},\n",
       " 'hits': {'total': {'value': 4031, 'relation': 'eq'},\n",
       "  'max_score': 0.0,\n",
       "  'hits': [{'_shard': '[vehicle][0]',\n",
       "    '_node': 'PzEtOLwfQPOJs2xXldNFeQ',\n",
       "    '_index': 'vehicle',\n",
       "    '_id': '9cfbrpMBFDxTL3h7B-oZ',\n",
       "    '_score': 0.0,\n",
       "    '_source': {'completion_terms': [{'tag': 'Vehicle'},\n",
       "      {'tag': 'Coupe'},\n",
       "      {'tag': 'Lotus'},\n",
       "      {'tag': 'Exige S'},\n",
       "      {'tag': '2008'},\n",
       "      {'tag': 'I4'},\n",
       "      {'tag': '1.8L'},\n",
       "      {'tag': 'Manual'},\n",
       "      {'tag': 'RWD'},\n",
       "      {'tag': 'Gasoline'},\n",
       "      {'tag': 'Red'},\n",
       "      {'tag': 'Standard'},\n",
       "      {'tag': 'Standard'},\n",
       "      {'tag': 'Leather seats'},\n",
       "      {'tag': 'Navigation'},\n",
       "      {'tag': 'Bluetooth'},\n",
       "      {'tag': 'ABS'},\n",
       "      {'tag': 'Airbags'},\n",
       "      {'tag': 'Stability control'}]},\n",
       "    'matched_queries': ['match_control'],\n",
       "    '_explanation': {'value': 0.0,\n",
       "     'description': 'ConstantScore(ToParentBlockJoinQuery (completion_terms.tag.edge_ngram:control))^0.0',\n",
       "     'details': []}}]}}"
      ]
     },
     "execution_count": 410,
     "metadata": {},
     "output_type": "execute_result"
    }
   ],
   "source": [
    "resp = es.es.search(\n",
    "    index=idx,\n",
    "    query=query,\n",
    "    size=1,\n",
    "    source =\"completion_terms\",\n",
    "    explain=True,\n",
    ")\n",
    "resp.body"
   ]
  },
  {
   "cell_type": "code",
   "execution_count": null,
   "metadata": {},
   "outputs": [],
   "source": []
  },
  {
   "cell_type": "code",
   "execution_count": null,
   "metadata": {},
   "outputs": [],
   "source": []
  },
  {
   "cell_type": "code",
   "execution_count": null,
   "metadata": {},
   "outputs": [],
   "source": []
  },
  {
   "cell_type": "code",
   "execution_count": null,
   "metadata": {},
   "outputs": [],
   "source": []
  },
  {
   "cell_type": "code",
   "execution_count": 106,
   "metadata": {},
   "outputs": [],
   "source": [
    "\n",
    "def number_of_search_terms_from(query_string):\n",
    "    \"\"\"\n",
    "    Returns the number of terms in the query string using space as a separator\n",
    "    :param query_string: String containing zero or more words separated by spaces\n",
    "    :return: Number with the amount of found terms\n",
    "    \"\"\"\n",
    "    return len(query_string.split())\n"
   ]
  },
  {
   "cell_type": "code",
   "execution_count": 123,
   "metadata": {},
   "outputs": [],
   "source": [
    "def get_completion_prefix(input_string):\n",
    "    # if the input string is too short, then don't attempt completion\n",
    "    if len(input_string) < 2:\n",
    "        return None\n",
    "\n",
    "    # get the last uncompleted string\n",
    "    input_string = input_string.lstrip()\n",
    "    last_space_index = input_string.rfind(\" \")\n",
    "    prefix = input_string[last_space_index + 1 :]\n",
    "\n",
    "    # if the prefix is 1 or less chars then include the previous word in the prefix\n",
    "    if len(prefix) <= 1:\n",
    "        previous_space_index = input_string[:last_space_index].rfind(\" \")\n",
    "        prefix = input_string[previous_space_index + 1 :]\n",
    "\n",
    "    return prefix\n"
   ]
  },
  {
   "cell_type": "code",
   "execution_count": 275,
   "metadata": {},
   "outputs": [],
   "source": [
    "query_string = \"Stability c\""
   ]
  },
  {
   "cell_type": "code",
   "execution_count": 257,
   "metadata": {},
   "outputs": [
    {
     "data": {
      "text/plain": [
       "2"
      ]
     },
     "execution_count": 257,
     "metadata": {},
     "output_type": "execute_result"
    }
   ],
   "source": [
    "number_of_search_terms_from(query_string)"
   ]
  },
  {
   "cell_type": "code",
   "execution_count": 321,
   "metadata": {},
   "outputs": [
    {
     "data": {
      "text/plain": [
       "{'bool': {'filter': [{'nested': {'_name': 'match_Stability',\n",
       "     'path': 'completion_terms',\n",
       "     'query': {'match': {'completion_terms.tag.edge_ngram': {'query': 'Stability'}}}}},\n",
       "   {'nested': {'_name': 'match_c',\n",
       "     'path': 'completion_terms',\n",
       "     'query': {'match': {'completion_terms.tag.edge_ngram': {'query': 'c'}}}}}]}}"
      ]
     },
     "execution_count": 321,
     "metadata": {},
     "output_type": "execute_result"
    }
   ],
   "source": [
    "query = None\n",
    "if number_of_search_terms_from(query_string) <= 1:\n",
    "    query = None\n",
    "else:\n",
    "    query = {\n",
    "        \"bool\": {\n",
    "            \"filter\": [\n",
    "                {\n",
    "                    \"nested\": {\n",
    "                        \"_name\": f\"match_{q}\",\n",
    "                        \"path\": \"completion_terms\",\n",
    "                        \"query\": {\n",
    "                            \"match\": {\n",
    "                                \"completion_terms.tag.edge_ngram\": {\n",
    "                                    \"query\": q,\n",
    "                                }\n",
    "                            }\n",
    "                        },\n",
    "                    }\n",
    "                }\n",
    "                for q in query_string.split()\n",
    "            ]\n",
    "        }\n",
    "    }\n",
    "query"
   ]
  },
  {
   "cell_type": "code",
   "execution_count": 322,
   "metadata": {},
   "outputs": [
    {
     "data": {
      "text/plain": [
       "'Stability c'"
      ]
     },
     "execution_count": 322,
     "metadata": {},
     "output_type": "execute_result"
    }
   ],
   "source": [
    "get_completion_prefix(query_string)"
   ]
  },
  {
   "cell_type": "code",
   "execution_count": 323,
   "metadata": {},
   "outputs": [
    {
     "data": {
      "text/plain": [
       "2"
      ]
     },
     "execution_count": 323,
     "metadata": {},
     "output_type": "execute_result"
    }
   ],
   "source": [
    "number_of_search_terms_from(get_completion_prefix(query_string))"
   ]
  },
  {
   "cell_type": "code",
   "execution_count": 324,
   "metadata": {},
   "outputs": [
    {
     "data": {
      "text/plain": [
       "'Stability c'"
      ]
     },
     "execution_count": 324,
     "metadata": {},
     "output_type": "execute_result"
    }
   ],
   "source": [
    "get_completion_prefix(query_string)"
   ]
  },
  {
   "cell_type": "code",
   "execution_count": 325,
   "metadata": {},
   "outputs": [
    {
     "data": {
      "text/plain": [
       "{'topics_parent': {'nested': {'path': 'completion_terms'},\n",
       "  'aggs': {'topics': {'filter': {'bool': {'should': [{'match_phrase_prefix': {'completion_terms.tag': 'Stability c'}}]}},\n",
       "    'aggs': {'topics': {'terms': {'field': 'completion_terms.tag.keyword',\n",
       "       'size': 10}}}}}}}"
      ]
     },
     "execution_count": 325,
     "metadata": {},
     "output_type": "execute_result"
    }
   ],
   "source": [
    "aggs = {\n",
    "    \"topics_parent\": {\n",
    "        \"nested\": {\"path\": \"completion_terms\"},\n",
    "        \"aggs\": {\n",
    "            \"topics\": {\n",
    "                \"filter\": {\n",
    "                    \"bool\": {\n",
    "                        \"should\": [\n",
    "                            {\n",
    "                                \"match_phrase_prefix\": {\n",
    "                                    \"completion_terms.tag\": get_completion_prefix(query_string)\n",
    "                                }\n",
    "                            },\n",
    "                        ]\n",
    "                    }\n",
    "                },\n",
    "                \"aggs\": {\n",
    "                    \"topics\": {\n",
    "                        \"terms\": {\n",
    "                            \"field\": \"completion_terms.tag.keyword\",\n",
    "                            \"size\": 10,\n",
    "                        },\n",
    "                    }\n",
    "                },\n",
    "            }\n",
    "        },\n",
    "    }\n",
    "}\n",
    "\n",
    "aggs"
   ]
  },
  {
   "cell_type": "code",
   "execution_count": null,
   "metadata": {},
   "outputs": [],
   "source": []
  },
  {
   "cell_type": "code",
   "execution_count": 326,
   "metadata": {},
   "outputs": [
    {
     "data": {
      "text/plain": [
       "{'took': 31,\n",
       " 'timed_out': False,\n",
       " '_shards': {'total': 1, 'successful': 1, 'skipped': 0, 'failed': 0},\n",
       " 'hits': {'total': {'value': 0, 'relation': 'eq'},\n",
       "  'max_score': None,\n",
       "  'hits': []},\n",
       " 'aggregations': {'topics_parent': {'doc_count': 0,\n",
       "   'topics': {'doc_count': 0,\n",
       "    'topics': {'doc_count_error_upper_bound': 0,\n",
       "     'sum_other_doc_count': 0,\n",
       "     'buckets': []}}}}}"
      ]
     },
     "execution_count": 326,
     "metadata": {},
     "output_type": "execute_result"
    }
   ],
   "source": [
    "resp = es.es.search(\n",
    "    index=idx,\n",
    "    query=query,\n",
    "    aggs=aggs,\n",
    "    size=1,\n",
    "    #filter_path=\"took,**.buckets.key,**.buckets.doc_count\",\n",
    ")\n",
    "resp.body"
   ]
  },
  {
   "cell_type": "code",
   "execution_count": 276,
   "metadata": {},
   "outputs": [
    {
     "data": {
      "text/plain": [
       "'Stability c'"
      ]
     },
     "execution_count": 276,
     "metadata": {},
     "output_type": "execute_result"
    }
   ],
   "source": [
    "get_completion_prefix(query_string)"
   ]
  },
  {
   "cell_type": "code",
   "execution_count": 319,
   "metadata": {},
   "outputs": [],
   "source": [
    "query = {\n",
    "    \"nested\": {\n",
    "        \"path\": \"completion_terms\",\n",
    "        \"query\": {\n",
    "            \"multi_match\": {\n",
    "                \"query\": get_completion_prefix(query_string),\n",
    "                \"operator\": \"and\",\n",
    "                \"type\": \"phrase_prefix\",\n",
    "                \"fields\": [\n",
    "                    \"completion_terms.tag.as_you_type\",\n",
    "                    \"completion_terms.tag.as_you_type._2gram\",\n",
    "                    \"completion_terms.tag.as_you_type._3gram\",\n",
    "                ],\n",
    "            }\n",
    "        },\n",
    "    }\n",
    "}"
   ]
  },
  {
   "cell_type": "code",
   "execution_count": 320,
   "metadata": {},
   "outputs": [
    {
     "data": {
      "text/plain": [
       "{'took': 17,\n",
       " 'timed_out': False,\n",
       " '_shards': {'total': 1, 'successful': 1, 'skipped': 0, 'failed': 0},\n",
       " 'hits': {'total': {'value': 3704, 'relation': 'eq'},\n",
       "  'max_score': 5.2239494,\n",
       "  'hits': [{'_shard': '[vehicle][0]',\n",
       "    '_node': 'PzEtOLwfQPOJs2xXldNFeQ',\n",
       "    '_index': 'vehicle',\n",
       "    '_id': 'bceGrpMBFDxTL3h7wtcp',\n",
       "    '_score': 5.2239494,\n",
       "    '_source': {'completion_terms': [{'tag': 'Vehicle'},\n",
       "      {'tag': 'Coupe'},\n",
       "      {'tag': 'Lotus'},\n",
       "      {'tag': 'Exige S'},\n",
       "      {'tag': '2008'},\n",
       "      {'tag': 'I4'},\n",
       "      {'tag': '1.8L'},\n",
       "      {'tag': 'Manual'},\n",
       "      {'tag': 'RWD'},\n",
       "      {'tag': 'Gasoline'},\n",
       "      {'tag': 'Red'},\n",
       "      {'tag': 'Standard'},\n",
       "      {'tag': 'Standard'},\n",
       "      {'tag': 'Leather seats'},\n",
       "      {'tag': 'Navigation'},\n",
       "      {'tag': 'Bluetooth'},\n",
       "      {'tag': 'ABS'},\n",
       "      {'tag': 'Airbags'},\n",
       "      {'tag': 'Stability control'}]},\n",
       "    '_explanation': {'value': 5.2239494,\n",
       "     'description': 'Score based on 1 child docs in range from 0 to 36, using score mode Avg',\n",
       "     'details': [{'value': 5.2239494,\n",
       "       'description': 'sum of:',\n",
       "       'details': [{'value': 5.2239494,\n",
       "         'description': 'max of:',\n",
       "         'details': [{'value': 5.2239494,\n",
       "           'description': 'weight(completion_terms.tag.as_you_type._index_prefix:stability c in 36) [PerFieldSimilarity], result of:',\n",
       "           'details': [{'value': 5.2239494,\n",
       "             'description': 'score(freq=1.0), computed as boost * idf * tf from:',\n",
       "             'details': [{'value': 2.2, 'description': 'boost', 'details': []},\n",
       "              {'value': 3.2384129,\n",
       "               'description': 'idf, computed as log(1 + (N - n + 0.5) / (n + 0.5)) from:',\n",
       "               'details': [{'value': 3727,\n",
       "                 'description': 'n, number of documents containing term',\n",
       "                 'details': []},\n",
       "                {'value': 95025,\n",
       "                 'description': 'N, total number of documents with field',\n",
       "                 'details': []}]},\n",
       "              {'value': 0.73323643,\n",
       "               'description': 'tf, computed as freq / (freq + k1 * (1 - b + b * dl / avgdl)) from:',\n",
       "               'details': [{'value': 1.0,\n",
       "                 'description': 'freq, occurrences of term within document',\n",
       "                 'details': []},\n",
       "                {'value': 1.2,\n",
       "                 'description': 'k1, term saturation parameter',\n",
       "                 'details': []},\n",
       "                {'value': 0.75,\n",
       "                 'description': 'b, length normalization parameter',\n",
       "                 'details': []},\n",
       "                {'value': 1.0,\n",
       "                 'description': 'dl, length of field',\n",
       "                 'details': []},\n",
       "                {'value': 14.102931,\n",
       "                 'description': 'avgdl, average length of field',\n",
       "                 'details': []}]}]}]},\n",
       "          {'value': 5.2239494,\n",
       "           'description': 'weight(completion_terms.tag.as_you_type._index_prefix:stability c in 36) [PerFieldSimilarity], result of:',\n",
       "           'details': [{'value': 5.2239494,\n",
       "             'description': 'score(freq=1.0), computed as boost * idf * tf from:',\n",
       "             'details': [{'value': 2.2, 'description': 'boost', 'details': []},\n",
       "              {'value': 3.2384129,\n",
       "               'description': 'idf, computed as log(1 + (N - n + 0.5) / (n + 0.5)) from:',\n",
       "               'details': [{'value': 3727,\n",
       "                 'description': 'n, number of documents containing term',\n",
       "                 'details': []},\n",
       "                {'value': 95025,\n",
       "                 'description': 'N, total number of documents with field',\n",
       "                 'details': []}]},\n",
       "              {'value': 0.73323643,\n",
       "               'description': 'tf, computed as freq / (freq + k1 * (1 - b + b * dl / avgdl)) from:',\n",
       "               'details': [{'value': 1.0,\n",
       "                 'description': 'freq, occurrences of term within document',\n",
       "                 'details': []},\n",
       "                {'value': 1.2,\n",
       "                 'description': 'k1, term saturation parameter',\n",
       "                 'details': []},\n",
       "                {'value': 0.75,\n",
       "                 'description': 'b, length normalization parameter',\n",
       "                 'details': []},\n",
       "                {'value': 1.0,\n",
       "                 'description': 'dl, length of field',\n",
       "                 'details': []},\n",
       "                {'value': 14.102931,\n",
       "                 'description': 'avgdl, average length of field',\n",
       "                 'details': []}]}]}]}]},\n",
       "        {'value': 0.0,\n",
       "         'description': 'match on required clause, product of:',\n",
       "         'details': [{'value': 0.0, 'description': '# clause', 'details': []},\n",
       "          {'value': 1.0,\n",
       "           'description': '_nested_path:completion_terms',\n",
       "           'details': []}]}]}]}}]}}"
      ]
     },
     "execution_count": 320,
     "metadata": {},
     "output_type": "execute_result"
    }
   ],
   "source": [
    "resp = es.es.search(\n",
    "    index=idx,\n",
    "    query=query,\n",
    "    size=1,\n",
    "    source=\"completion_terms\",\n",
    "    #filter_path=\"took,**.buckets.key,**.buckets.doc_count\",\n",
    "    explain=True,\n",
    ")\n",
    "resp.body"
   ]
  },
  {
   "cell_type": "code",
   "execution_count": 289,
   "metadata": {},
   "outputs": [
    {
     "data": {
      "text/plain": [
       "{'tokens': [{'token': 'stability'}, {'token': 'c'}]}"
      ]
     },
     "execution_count": 289,
     "metadata": {},
     "output_type": "execute_result"
    }
   ],
   "source": [
    "text ='Stability c'\n",
    "\n",
    "resp = es.es.indices.analyze(\n",
    "    index=idx,\n",
    "    analyzer=\"standard\",\n",
    "    text=text,\n",
    "    filter_path=\"**.token\"\n",
    ")\n",
    "resp.body"
   ]
  },
  {
   "cell_type": "code",
   "execution_count": null,
   "metadata": {},
   "outputs": [],
   "source": []
  },
  {
   "cell_type": "code",
   "execution_count": 270,
   "metadata": {},
   "outputs": [
    {
     "data": {
      "text/plain": [
       "{'nested': {'path': 'completion_terms',\n",
       "  'query': {'bool': {'should': [{'match_phrase_prefix': {'completion_terms.tag': 'Stability C'}}]}}}}"
      ]
     },
     "execution_count": 270,
     "metadata": {},
     "output_type": "execute_result"
    }
   ],
   "source": [
    "query"
   ]
  },
  {
   "cell_type": "code",
   "execution_count": null,
   "metadata": {},
   "outputs": [],
   "source": [
    "should_list = [\n",
    "                            {\n",
    "                                \"term\": {\n",
    "                                    \"completion_terms.tag.edge_ngram\": get_completion_prefix(\n",
    "                                        query_string\n",
    "                                    )\n",
    "                                }\n",
    "                            },\n",
    "                            {\n",
    "                                \"match_phrase\": {\n",
    "                                    \"completion_terms.tag.edge_ngram\": {\n",
    "                                        \"query\": get_completion_prefix(query_string)\n",
    "                                    }\n",
    "                                }\n",
    "                            },\n",
    "                            {\n",
    "                                \"match\": {\n",
    "                                    \"completion_terms.tag.edge_ngram\": {\n",
    "                                        \"query\": get_completion_prefix(query_string),\n",
    "                                        \"operator\": \"OR\",\n",
    "                                        \"fuzziness\": \"AUTO\",\n",
    "                                        \"prefix_length\": max(\n",
    "                                            1,\n",
    "                                            math.floor(\n",
    "                                                (1 / 2.5)\n",
    "                                                * len(\n",
    "                                                    get_completion_prefix(query_string)\n",
    "                                                )\n",
    "                                            ),\n",
    "                                        ),\n",
    "                                    }\n",
    "                                }\n",
    "                            },\n",
    "                        ]"
   ]
  },
  {
   "cell_type": "code",
   "execution_count": null,
   "metadata": {},
   "outputs": [],
   "source": []
  },
  {
   "cell_type": "code",
   "execution_count": 64,
   "metadata": {},
   "outputs": [
    {
     "data": {
      "text/plain": [
       "{'took': 7,\n",
       " 'timed_out': False,\n",
       " '_shards': {'total': 1, 'successful': 1, 'skipped': 0, 'failed': 0},\n",
       " 'hits': {'total': {'value': 4570, 'relation': 'eq'},\n",
       "  'max_score': None,\n",
       "  'hits': []},\n",
       " 'aggregations': {'topics_parent': {'doc_count': 86587,\n",
       "   'topics': {'doc_count': 8297,\n",
       "    'topics': {'doc_count_error_upper_bound': 0,\n",
       "     'sum_other_doc_count': 1744,\n",
       "     'buckets': [{'key': 'stability control',\n",
       "       'doc_count': 3723,\n",
       "       'top_hits': {'hits': {'total': {'value': 3723, 'relation': 'eq'},\n",
       "         'max_score': 0.0,\n",
       "         'hits': [{'_index': 'vehicle',\n",
       "           '_id': 'Tce-rZMBFDxTL3h7vomo',\n",
       "           '_nested': {'field': 'completion_terms', 'offset': 18},\n",
       "           '_score': 0.0,\n",
       "           '_source': {'tag': 'Stability control'},\n",
       "           'highlight': {'completion_terms.tag.edge_ngram': ['<em>Stability</em> <em>co</em>ntrol']}}]}}},\n",
       "      {'key': 'air conditioning',\n",
       "       'doc_count': 812,\n",
       "       'top_hits': {'hits': {'total': {'value': 812, 'relation': 'eq'},\n",
       "         'max_score': 0.0,\n",
       "         'hits': [{'_index': 'vehicle',\n",
       "           '_id': 'VMe-rZMBFDxTL3h7vomo',\n",
       "           '_nested': {'field': 'completion_terms', 'offset': 14},\n",
       "           '_score': 0.0,\n",
       "           '_source': {'tag': 'Air conditioning'},\n",
       "           'highlight': {'completion_terms.tag.edge_ngram': ['Air <em>co</em>nditioning']}}]}}},\n",
       "      {'key': 'cruise control',\n",
       "       'doc_count': 468,\n",
       "       'top_hits': {'hits': {'total': {'value': 468, 'relation': 'eq'},\n",
       "         'max_score': 0.0,\n",
       "         'hits': [{'_index': 'vehicle',\n",
       "           '_id': 'Vce-rZMBFDxTL3h7vomo',\n",
       "           '_nested': {'field': 'completion_terms', 'offset': 15},\n",
       "           '_score': 0.0,\n",
       "           '_source': {'tag': 'Cruise control'},\n",
       "           'highlight': {'completion_terms.tag.edge_ngram': ['Cruise <em>co</em>ntrol']}}]}}},\n",
       "      {'key': 'traction control',\n",
       "       'doc_count': 377,\n",
       "       'top_hits': {'hits': {'total': {'value': 377, 'relation': 'eq'},\n",
       "         'max_score': 0.0,\n",
       "         'hits': [{'_index': 'vehicle',\n",
       "           '_id': 'Use-rZMBFDxTL3h7vomo',\n",
       "           '_nested': {'field': 'completion_terms', 'offset': 18},\n",
       "           '_score': 0.0,\n",
       "           '_source': {'tag': 'Traction control'},\n",
       "           'highlight': {'completion_terms.tag.edge_ngram': ['Traction <em>co</em>ntrol']}}]}}},\n",
       "      {'key': 'compact design',\n",
       "       'doc_count': 334,\n",
       "       'top_hits': {'hits': {'total': {'value': 334, 'relation': 'eq'},\n",
       "         'max_score': 0.0,\n",
       "         'hits': [{'_index': 'vehicle',\n",
       "           '_id': 'UMe-rZMBFDxTL3h7vomo',\n",
       "           '_nested': {'field': 'completion_terms', 'offset': 15},\n",
       "           '_score': 0.0,\n",
       "           '_source': {'tag': 'Compact design'},\n",
       "           'highlight': {'completion_terms.tag.edge_ngram': ['<em>Co</em>mpact design']}}]}}},\n",
       "      {'key': 'hydraulic controls',\n",
       "       'doc_count': 275,\n",
       "       'top_hits': {'hits': {'total': {'value': 275, 'relation': 'eq'},\n",
       "         'max_score': 0.0,\n",
       "         'hits': [{'_index': 'vehicle',\n",
       "           '_id': 'Uce-rZMBFDxTL3h7vomo',\n",
       "           '_nested': {'field': 'completion_terms', 'offset': 13},\n",
       "           '_score': 0.0,\n",
       "           '_source': {'tag': 'Hydraulic controls'},\n",
       "           'highlight': {'completion_terms.tag.edge_ngram': ['Hydraulic <em>co</em>ntrols']}}]}}},\n",
       "      {'key': 'hydraulic quick coupler',\n",
       "       'doc_count': 188,\n",
       "       'top_hits': {'hits': {'total': {'value': 188, 'relation': 'eq'},\n",
       "         'max_score': 0.0,\n",
       "         'hits': [{'_index': 'vehicle',\n",
       "           '_id': 'YMe-rZMBFDxTL3h7vomo',\n",
       "           '_nested': {'field': 'completion_terms', 'offset': 13},\n",
       "           '_score': 0.0,\n",
       "           '_source': {'tag': 'Hydraulic quick coupler'},\n",
       "           'highlight': {'completion_terms.tag.edge_ngram': ['Hydraulic quick <em>co</em>upler']}}]}}},\n",
       "      {'key': 'coupe',\n",
       "       'doc_count': 136,\n",
       "       'top_hits': {'hits': {'total': {'value': 136, 'relation': 'eq'},\n",
       "         'max_score': 0.0,\n",
       "         'hits': [{'_index': 'vehicle',\n",
       "           '_id': 'Tce-rZMBFDxTL3h7vomo',\n",
       "           '_nested': {'field': 'completion_terms', 'offset': 1},\n",
       "           '_score': 0.0,\n",
       "           '_source': {'tag': 'Coupe'},\n",
       "           'highlight': {'completion_terms.tag.edge_ngram': ['<em>Co</em>upe']}}]}}},\n",
       "      {'key': 'quick coupler',\n",
       "       'doc_count': 122,\n",
       "       'top_hits': {'hits': {'total': {'value': 122, 'relation': 'eq'},\n",
       "         'max_score': 0.0,\n",
       "         'hits': [{'_index': 'vehicle',\n",
       "           '_id': 'ZMe-rZMBFDxTL3h7vomo',\n",
       "           '_nested': {'field': 'completion_terms', 'offset': 14},\n",
       "           '_score': 0.0,\n",
       "           '_source': {'tag': 'Quick coupler'},\n",
       "           'highlight': {'completion_terms.tag.edge_ngram': ['Quick <em>co</em>upler']}}]}}},\n",
       "      {'key': 'bluetooth connectivity',\n",
       "       'doc_count': 118,\n",
       "       'top_hits': {'hits': {'total': {'value': 118, 'relation': 'eq'},\n",
       "         'max_score': 0.0,\n",
       "         'hits': [{'_index': 'vehicle',\n",
       "           '_id': 'gse-rZMBFDxTL3h7vomo',\n",
       "           '_nested': {'field': 'completion_terms', 'offset': 15},\n",
       "           '_score': 0.0,\n",
       "           '_source': {'tag': 'Bluetooth Connectivity'},\n",
       "           'highlight': {'completion_terms.tag.edge_ngram': ['Bluetooth <em>Co</em>nnectivity']}}]}}}]}}}}}"
      ]
     },
     "execution_count": 64,
     "metadata": {},
     "output_type": "execute_result"
    }
   ],
   "source": [
    "resp = es.es.search(\n",
    "    index=idx,\n",
    "    query=query,\n",
    "    aggs=aggs,\n",
    "    size=0,\n",
    ")\n",
    "resp.body"
   ]
  },
  {
   "cell_type": "code",
   "execution_count": null,
   "metadata": {},
   "outputs": [],
   "source": [
    "stability"
   ]
  },
  {
   "cell_type": "code",
   "execution_count": 161,
   "metadata": {},
   "outputs": [
    {
     "name": "stdout",
     "output_type": "stream",
     "text": [
      "1: 1\n",
      "2: 1\n",
      "3: 1\n",
      "4: 1\n",
      "5: 2\n",
      "6: 2\n",
      "7: 2\n",
      "8: 3\n",
      "9: 3\n"
     ]
    }
   ],
   "source": [
    "for i in range(1,10):\n",
    "    var = max(1,math.floor((1/2.5) * i))\n",
    "    print(f\"{i}: {var}\")\n"
   ]
  },
  {
   "cell_type": "code",
   "execution_count": null,
   "metadata": {},
   "outputs": [],
   "source": [
    " math.floor((1/3) * len(get_completion_prefix(query_string)))"
   ]
  }
 ],
 "metadata": {
  "kernelspec": {
   "display_name": "search",
   "language": "python",
   "name": "python3"
  },
  "language_info": {
   "codemirror_mode": {
    "name": "ipython",
    "version": 3
   },
   "file_extension": ".py",
   "mimetype": "text/x-python",
   "name": "python",
   "nbconvert_exporter": "python",
   "pygments_lexer": "ipython3",
   "version": "3.9.19"
  }
 },
 "nbformat": 4,
 "nbformat_minor": 2
}
