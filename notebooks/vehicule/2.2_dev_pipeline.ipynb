{
 "cells": [
  {
   "cell_type": "code",
   "execution_count": 2,
   "metadata": {},
   "outputs": [
    {
     "name": "stdout",
     "output_type": "stream",
     "text": [
      "Intel MKL WARNING: Support of Intel(R) Streaming SIMD Extensions 4.2 (Intel(R) SSE4.2) enabled only processors has been deprecated. Intel oneAPI Math Kernel Library 2025.0 will require Intel(R) Advanced Vector Extensions (Intel(R) AVX) instructions.\n",
      "Intel MKL WARNING: Support of Intel(R) Streaming SIMD Extensions 4.2 (Intel(R) SSE4.2) enabled only processors has been deprecated. Intel oneAPI Math Kernel Library 2025.0 will require Intel(R) Advanced Vector Extensions (Intel(R) AVX) instructions.\n"
     ]
    }
   ],
   "source": [
    "import json\n",
    "\n",
    "import pandas as pd"
   ]
  },
  {
   "cell_type": "code",
   "execution_count": 3,
   "metadata": {},
   "outputs": [],
   "source": [
    "import sys\n",
    "import os\n",
    "\n",
    "# Get the current working directory and the relative path to your module\n",
    "module_path = os.path.abspath(os.path.join(\"..\", \"..\"))\n",
    "if module_path not in sys.path:\n",
    "    sys.path.append(module_path)\n",
    "\n",
    "# Now you can import your module\n",
    "from src.api.service.repo import SearchRepo"
   ]
  },
  {
   "cell_type": "code",
   "execution_count": 4,
   "metadata": {},
   "outputs": [
    {
     "name": "stdout",
     "output_type": "stream",
     "text": [
      "Connected to Elasticsearch!\n",
      "{'cluster_name': 'docker-cluster',\n",
      " 'cluster_uuid': '9I9q3mFYSISbvBg75cK23A',\n",
      " 'name': '5eeda383872f',\n",
      " 'tagline': 'You Know, for Search',\n",
      " 'version': {'build_date': '2024-08-05T10:05:34.233336849Z',\n",
      "             'build_flavor': 'default',\n",
      "             'build_hash': '1a77947f34deddb41af25e6f0ddb8e830159c179',\n",
      "             'build_snapshot': False,\n",
      "             'build_type': 'docker',\n",
      "             'lucene_version': '9.11.1',\n",
      "             'minimum_index_compatibility_version': '7.0.0',\n",
      "             'minimum_wire_compatibility_version': '7.17.0',\n",
      "             'number': '8.15.0'}}\n"
     ]
    }
   ],
   "source": [
    "es = SearchRepo()"
   ]
  },
  {
   "cell_type": "code",
   "execution_count": null,
   "metadata": {},
   "outputs": [],
   "source": []
  },
  {
   "cell_type": "markdown",
   "metadata": {},
   "source": [
    "# 1. Test Ingest Pipeline"
   ]
  },
  {
   "cell_type": "code",
   "execution_count": null,
   "metadata": {},
   "outputs": [],
   "source": [
    "processors = [\n",
    "    {\n",
    "      \"script\": {\n",
    "        \"description\": \"Expand termFacetData: split list values into separate entries while keeping scalar values intact.\",\n",
    "        \"lang\": \"painless\",\n",
    "        \"source\": \"\"\"\n",
    "          def expanded = [];\n",
    "          for (entry in ctx.termFacetData) {\n",
    "            if (entry.value instanceof List) {\n",
    "              for (item in entry.value) {\n",
    "                expanded.add(['name': entry.name, 'value': item]);\n",
    "              }\n",
    "            } else {\n",
    "              expanded.add(entry);\n",
    "            }\n",
    "          }\n",
    "          ctx.termFacetData = expanded;\n",
    "        \"\"\"\n",
    "      }\n",
    "    },\n",
    "    # {\n",
    "    #   \"script\": {\n",
    "    #     \"description\": \"Decompose hierarchical pathFacetData into multiple levels, preserving original and adding parent paths.\",\n",
    "    #     \"lang\": \"painless\",\n",
    "    #     \"source\": \"\"\"\n",
    "    #       def newPathFacetData = []; // Temporary list to store results\n",
    "    #       for (entry in ctx.pathFacetData) {\n",
    "    #         def path = entry.value.splitOnToken('/');\n",
    "    #         def accumulated = [];\n",
    "    #         for (segment in path) {\n",
    "    #           accumulated.add(segment);\n",
    "    #           newPathFacetData.add(['name': entry.name, 'value': accumulated.join('/')]);\n",
    "    #         }\n",
    "    #       }\n",
    "    #       ctx.pathFacetData = newPathFacetData; // Replace the original list\n",
    "    #     \"\"\"\n",
    "    #   }\n",
    "    # }\n",
    "  ]"
   ]
  },
  {
   "cell_type": "code",
   "execution_count": null,
   "metadata": {},
   "outputs": [],
   "source": [
    "resp = es.es.ingest.put_pipeline(\n",
    "    id=\"ingest\",\n",
    "    description=\"This pipeline processes `termFacetData` and `pathFacetData` fields to prepare them for indexing. For `termFacetData`, it expands list values into separate entries while retaining scalar values as-is. For `pathFacetData`, it decomposes hierarchical paths into multiple levels, preserving the full path and adding its parent paths. This ensures both fields are normalized for efficient querying and analysis.\",\n",
    "    processors=processors,\n",
    ")\n",
    "resp.body"
   ]
  },
  {
   "cell_type": "code",
   "execution_count": null,
   "metadata": {},
   "outputs": [],
   "source": [
    "document={\n",
    "    \"termFacetData\": [\n",
    "        {\"name\": \"year\", \"value\": \"2008\"},\n",
    "        {\"name\": \"engine_type\", \"value\": \"I4\"},\n",
    "        {\"name\": \"engine_size\", \"value\": \"1.8L\"},\n",
    "        {\"name\": \"transmission\", \"value\": \"Manual\"},\n",
    "        {\"name\": \"drive_type\", \"value\": \"RWD\"},\n",
    "        {\"name\": \"fuel_type\", \"value\": \"Gasoline\"},\n",
    "        {\"name\": \"exterior_color\", \"value\": \"Red\"},\n",
    "        {\"name\": \"interior_color\", \"value\": \"Standard\"},\n",
    "        {\"name\": \"trim_level\", \"value\": \"Standard\"},\n",
    "        {\n",
    "            \"name\": \"notable_features\",\n",
    "            \"value\": [\"Leather seats\", \"Navigation\", \"Bluetooth\"],\n",
    "        },\n",
    "        {\"name\": \"safety_features\", \"value\": [\"ABS\", \"Airbags\", \"Stability control\"]},\n",
    "    ]\n",
    "}"
   ]
  },
  {
   "cell_type": "code",
   "execution_count": null,
   "metadata": {},
   "outputs": [],
   "source": [
    "doc = [{\"_source\":document}]"
   ]
  },
  {
   "cell_type": "code",
   "execution_count": null,
   "metadata": {},
   "outputs": [],
   "source": [
    "resp = es.es.ingest.simulate(id=\"ingest\", docs=doc)\n",
    "resp.body"
   ]
  },
  {
   "cell_type": "code",
   "execution_count": null,
   "metadata": {},
   "outputs": [],
   "source": []
  },
  {
   "cell_type": "code",
   "execution_count": null,
   "metadata": {},
   "outputs": [],
   "source": []
  },
  {
   "cell_type": "code",
   "execution_count": null,
   "metadata": {},
   "outputs": [],
   "source": []
  },
  {
   "cell_type": "code",
   "execution_count": null,
   "metadata": {},
   "outputs": [],
   "source": []
  },
  {
   "cell_type": "code",
   "execution_count": null,
   "metadata": {},
   "outputs": [],
   "source": []
  }
 ],
 "metadata": {
  "kernelspec": {
   "display_name": "search",
   "language": "python",
   "name": "python3"
  },
  "language_info": {
   "codemirror_mode": {
    "name": "ipython",
    "version": 3
   },
   "file_extension": ".py",
   "mimetype": "text/x-python",
   "name": "python",
   "nbconvert_exporter": "python",
   "pygments_lexer": "ipython3",
   "version": "3.9.19"
  }
 },
 "nbformat": 4,
 "nbformat_minor": 2
}
