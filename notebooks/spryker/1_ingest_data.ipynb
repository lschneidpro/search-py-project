{
 "cells": [
  {
   "cell_type": "code",
   "execution_count": 1,
   "metadata": {},
   "outputs": [
    {
     "name": "stdout",
     "output_type": "stream",
     "text": [
      "Intel MKL WARNING: Support of Intel(R) Streaming SIMD Extensions 4.2 (Intel(R) SSE4.2) enabled only processors has been deprecated. Intel oneAPI Math Kernel Library 2025.0 will require Intel(R) Advanced Vector Extensions (Intel(R) AVX) instructions.\n",
      "Intel MKL WARNING: Support of Intel(R) Streaming SIMD Extensions 4.2 (Intel(R) SSE4.2) enabled only processors has been deprecated. Intel oneAPI Math Kernel Library 2025.0 will require Intel(R) Advanced Vector Extensions (Intel(R) AVX) instructions.\n"
     ]
    }
   ],
   "source": [
    "import json\n",
    "\n",
    "from search import Search"
   ]
  },
  {
   "cell_type": "code",
   "execution_count": 2,
   "metadata": {},
   "outputs": [
    {
     "name": "stdout",
     "output_type": "stream",
     "text": [
      "Connected to Elasticsearch!\n",
      "{'cluster_name': 'docker-cluster',\n",
      " 'cluster_uuid': 'eSXRqBWQT9KB0ySqYOb8Xg',\n",
      " 'name': 'ce627f509895',\n",
      " 'tagline': 'You Know, for Search',\n",
      " 'version': {'build_date': '2023-05-23T17:16:07.179039820Z',\n",
      "             'build_flavor': 'default',\n",
      "             'build_hash': 'c01029875a091076ed42cdb3a41c10b1a9a5a20f',\n",
      "             'build_snapshot': False,\n",
      "             'build_type': 'docker',\n",
      "             'lucene_version': '9.6.0',\n",
      "             'minimum_index_compatibility_version': '7.0.0',\n",
      "             'minimum_wire_compatibility_version': '7.17.0',\n",
      "             'number': '8.8.0'}}\n"
     ]
    }
   ],
   "source": [
    "es = Search()"
   ]
  },
  {
   "cell_type": "markdown",
   "metadata": {},
   "source": []
  },
  {
   "cell_type": "code",
   "execution_count": 9,
   "metadata": {},
   "outputs": [],
   "source": [
    "with open('data/data.json', 'r') as file:\n",
    "    data = json.load(file)\n",
    "\n",
    "with open('mapping/settings.json', 'r') as file:\n",
    "    settings = json.load(file)[\"settings\"]\n",
    "\n",
    "with open('mapping/mappings.json', 'r') as file:\n",
    "    mappings = json.load(file)['mappings']\n"
   ]
  },
  {
   "cell_type": "code",
   "execution_count": 10,
   "metadata": {},
   "outputs": [
    {
     "name": "stdout",
     "output_type": "stream",
     "text": [
      "Index with 1 documents created in 54 milliseconds.\n"
     ]
    }
   ],
   "source": [
    "response = es.reindex(index=\"hammer\", documents=data, mappings=mappings, settings=settings)\n",
    "print(\n",
    "        f'Index with {len(response[\"items\"])} documents created '\n",
    "        f'in {response[\"took\"]} milliseconds.'\n",
    "    )"
   ]
  },
  {
   "cell_type": "code",
   "execution_count": null,
   "metadata": {},
   "outputs": [],
   "source": []
  }
 ],
 "metadata": {
  "kernelspec": {
   "display_name": "search",
   "language": "python",
   "name": "python3"
  },
  "language_info": {
   "codemirror_mode": {
    "name": "ipython",
    "version": 3
   },
   "file_extension": ".py",
   "mimetype": "text/x-python",
   "name": "python",
   "nbconvert_exporter": "python",
   "pygments_lexer": "ipython3",
   "version": "3.9.19"
  }
 },
 "nbformat": 4,
 "nbformat_minor": 2
}
