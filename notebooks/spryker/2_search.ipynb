{
 "cells": [
  {
   "cell_type": "code",
   "execution_count": 1,
   "metadata": {},
   "outputs": [
    {
     "name": "stdout",
     "output_type": "stream",
     "text": [
      "Intel MKL WARNING: Support of Intel(R) Streaming SIMD Extensions 4.2 (Intel(R) SSE4.2) enabled only processors has been deprecated. Intel oneAPI Math Kernel Library 2025.0 will require Intel(R) Advanced Vector Extensions (Intel(R) AVX) instructions.\n",
      "Intel MKL WARNING: Support of Intel(R) Streaming SIMD Extensions 4.2 (Intel(R) SSE4.2) enabled only processors has been deprecated. Intel oneAPI Math Kernel Library 2025.0 will require Intel(R) Advanced Vector Extensions (Intel(R) AVX) instructions.\n"
     ]
    }
   ],
   "source": [
    "from search import Search"
   ]
  },
  {
   "cell_type": "code",
   "execution_count": 2,
   "metadata": {},
   "outputs": [
    {
     "name": "stdout",
     "output_type": "stream",
     "text": [
      "Connected to Elasticsearch!\n",
      "{'cluster_name': 'docker-cluster',\n",
      " 'cluster_uuid': 'eSXRqBWQT9KB0ySqYOb8Xg',\n",
      " 'name': 'ce627f509895',\n",
      " 'tagline': 'You Know, for Search',\n",
      " 'version': {'build_date': '2023-05-23T17:16:07.179039820Z',\n",
      "             'build_flavor': 'default',\n",
      "             'build_hash': 'c01029875a091076ed42cdb3a41c10b1a9a5a20f',\n",
      "             'build_snapshot': False,\n",
      "             'build_type': 'docker',\n",
      "             'lucene_version': '9.6.0',\n",
      "             'minimum_index_compatibility_version': '7.0.0',\n",
      "             'minimum_wire_compatibility_version': '7.17.0',\n",
      "             'number': '8.8.0'}}\n"
     ]
    }
   ],
   "source": [
    "es = Search()"
   ]
  },
  {
   "cell_type": "markdown",
   "metadata": {},
   "source": []
  },
  {
   "cell_type": "code",
   "execution_count": 22,
   "metadata": {},
   "outputs": [],
   "source": [
    "index = \"hammer\""
   ]
  },
  {
   "cell_type": "code",
   "execution_count": null,
   "metadata": {},
   "outputs": [],
   "source": []
  },
  {
   "cell_type": "code",
   "execution_count": 23,
   "metadata": {},
   "outputs": [],
   "source": [
    "query_string =\"fortis ham\""
   ]
  },
  {
   "cell_type": "code",
   "execution_count": 24,
   "metadata": {},
   "outputs": [],
   "source": [
    "query = {\n",
    "    \"match\": {\n",
    "      \"completion_terms.edge_ngram\": {\n",
    "        \"query\": query_string\n",
    "      }\n",
    "    }\n",
    "  }\n",
    "aggs = {\n",
    "  \"autocomplete\": {\n",
    "    \"terms\": {\n",
    "      \"field\": \"completion_terms\",\n",
    "      \"size\": 100\n",
    "    }\n",
    "  }\n",
    "}"
   ]
  },
  {
   "cell_type": "code",
   "execution_count": 25,
   "metadata": {},
   "outputs": [],
   "source": [
    "resp = es.search(index=index, query=query, aggs=aggs, source=False)"
   ]
  },
  {
   "cell_type": "code",
   "execution_count": 26,
   "metadata": {},
   "outputs": [
    {
     "data": {
      "text/plain": [
       "{'took': 30,\n",
       " 'timed_out': False,\n",
       " '_shards': {'total': 1, 'successful': 1, 'skipped': 0, 'failed': 0},\n",
       " 'hits': {'total': {'value': 1, 'relation': 'eq'},\n",
       "  'max_score': 1.1798387,\n",
       "  'hits': [{'_index': 'hammer',\n",
       "    '_id': '2JzWrZIBzjZ1AKW5vzXy',\n",
       "    '_score': 1.1798387}]},\n",
       " 'aggregations': {'autocomplete': {'doc_count_error_upper_bound': 0,\n",
       "   'sum_other_doc_count': 0,\n",
       "   'buckets': [{'key': '1000', 'doc_count': 1},\n",
       "    {'key': '1250', 'doc_count': 1},\n",
       "    {'key': '1500', 'doc_count': 1},\n",
       "    {'key': '2000', 'doc_count': 1},\n",
       "    {'key': 'Fortis', 'doc_count': 1},\n",
       "    {'key': 'Fäustel', 'doc_count': 1},\n",
       "    {'key': 'Hammer', 'doc_count': 1},\n",
       "    {'key': 'Handwerkzeug', 'doc_count': 1}]}}}"
      ]
     },
     "execution_count": 26,
     "metadata": {},
     "output_type": "execute_result"
    }
   ],
   "source": [
    "resp.body"
   ]
  },
  {
   "cell_type": "code",
   "execution_count": null,
   "metadata": {},
   "outputs": [],
   "source": []
  }
 ],
 "metadata": {
  "kernelspec": {
   "display_name": "search",
   "language": "python",
   "name": "python3"
  },
  "language_info": {
   "codemirror_mode": {
    "name": "ipython",
    "version": 3
   },
   "file_extension": ".py",
   "mimetype": "text/x-python",
   "name": "python",
   "nbconvert_exporter": "python",
   "pygments_lexer": "ipython3",
   "version": "3.9.19"
  }
 },
 "nbformat": 4,
 "nbformat_minor": 2
}
